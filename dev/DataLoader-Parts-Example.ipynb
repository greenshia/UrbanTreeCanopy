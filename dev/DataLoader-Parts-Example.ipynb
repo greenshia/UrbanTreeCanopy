{
 "cells": [
  {
   "cell_type": "code",
   "execution_count": 29,
   "metadata": {},
   "outputs": [],
   "source": [
    "import image_kit.handler as hd\n",
    "import image_kit.io as io\n",
    "import numpy as np"
   ]
  },
  {
   "cell_type": "code",
   "execution_count": 8,
   "metadata": {},
   "outputs": [
    {
     "name": "stdout",
     "output_type": "stream",
     "text": [
      "csv  input  target\r\n"
     ]
    }
   ],
   "source": [
    "!ls ../../data/v1/384"
   ]
  },
  {
   "cell_type": "code",
   "execution_count": 9,
   "metadata": {},
   "outputs": [
    {
     "name": "stdout",
     "output_type": "stream",
     "text": [
      "TILE_14.970574386787277_-16.690732961292674_201504.tif\n",
      "TILE_14.973489654408965_-16.68909205393462_201504.tif\n",
      "TILE_14.990898875775573_-16.66488114662615_201504.tif\n",
      "TILE_14.999767301412446_-16.650022145164584_201504.tif\n",
      "TILE_15.002007082159649_-16.64150516570429_201504.tif\n",
      "TILE_15.003349008767424_-16.636398548833515_201504.tif\n",
      "TILE_15.020628456980846_-16.602333562403402_201504.tif\n",
      "TILE_15.028182211985706_-16.583960809380567_201504.tif\n",
      "TILE_15.034498130052729_-16.591170031181253_201504.tif\n",
      "TILE_15.034962642723865_-16.589316210129724_201504.tif\n",
      "ls: write error: Broken pipe\n",
      "TILE_14.970574386787277_-16.690732961292674_201504.tif\n",
      "TILE_14.973489654408965_-16.68909205393462_201504.tif\n",
      "TILE_14.990898875775573_-16.66488114662615_201504.tif\n",
      "TILE_14.999767301412446_-16.650022145164584_201504.tif\n",
      "TILE_15.002007082159649_-16.64150516570429_201504.tif\n",
      "TILE_15.003349008767424_-16.636398548833515_201504.tif\n",
      "TILE_15.020628456980846_-16.602333562403402_201504.tif\n",
      "TILE_15.028182211985706_-16.583960809380567_201504.tif\n",
      "TILE_15.034498130052729_-16.591170031181253_201504.tif\n",
      "TILE_15.034962642723865_-16.589316210129724_201504.tif\n",
      "ls: write error: Broken pipe\n"
     ]
    }
   ],
   "source": [
    "!ls ../../data/v1/384/input | head\n",
    "!ls ../../data/v1/384/target | head"
   ]
  },
  {
   "cell_type": "code",
   "execution_count": 14,
   "metadata": {},
   "outputs": [],
   "source": [
    "INPUT_DIR='../../data/v1/384/input'\n",
    "TARGET_DIR='../../data/v1/384/target'"
   ]
  },
  {
   "cell_type": "code",
   "execution_count": 15,
   "metadata": {},
   "outputs": [],
   "source": [
    "tile_id='TILE_14.970574386787277_-16.690732961292674_201504.tif'"
   ]
  },
  {
   "cell_type": "code",
   "execution_count": 16,
   "metadata": {},
   "outputs": [
    {
     "data": {
      "text/plain": [
       "((5, 384, 384), (1, 384, 384))"
      ]
     },
     "execution_count": 16,
     "metadata": {},
     "output_type": "execute_result"
    }
   ],
   "source": [
    "inpt=io.read(f'{INPUT_DIR}/{tile_id}',return_profile=False)\n",
    "targ=io.read(f'{TARGET_DIR}/{tile_id}',return_profile=False)\n",
    "inpt.shape, targ.shape"
   ]
  },
  {
   "cell_type": "code",
   "execution_count": 26,
   "metadata": {},
   "outputs": [],
   "source": [
    "MEANS=[0.5]*5\n",
    "STDEVS=[0.1]*5\n",
    "\n",
    "# nir-r/(r+nir)\n",
    "\n",
    "handler=hd.InputTargetHandler(\n",
    "            means=MEANS,\n",
    "            stdevs=STDEVS,\n",
    "            band_indices=['ndvi'],\n",
    "            augment=True)"
   ]
  },
  {
   "cell_type": "code",
   "execution_count": 28,
   "metadata": {},
   "outputs": [
    {
     "data": {
      "text/plain": [
       "((6, 384, 384), (384, 384))"
      ]
     },
     "execution_count": 28,
     "metadata": {},
     "output_type": "execute_result"
    }
   ],
   "source": [
    "handler.set_augmentation()\n",
    "inpt=handler.input(f'{INPUT_DIR}/{tile_id}')\n",
    "targ=handler.target(f'{TARGET_DIR}/{tile_id}')\n",
    "inpt.shape,targ.shape"
   ]
  },
  {
   "cell_type": "code",
   "execution_count": 47,
   "metadata": {},
   "outputs": [
    {
     "data": {
      "text/plain": [
       "array([[[0.23479106, 0.21747969],\n",
       "        [0.09174833, 0.14491847],\n",
       "        [0.33850622, 0.23154747]],\n",
       "\n",
       "       [[0.14431592, 0.80126917],\n",
       "        [0.04006435, 0.25783535],\n",
       "        [0.06180161, 0.10173689]],\n",
       "\n",
       "       [[0.035104  , 0.97268367],\n",
       "        [0.07777384, 0.95176919],\n",
       "        [0.51673558, 0.29757124]]])"
      ]
     },
     "execution_count": 47,
     "metadata": {},
     "output_type": "execute_result"
    }
   ],
   "source": [
    "targ=np.random.uniform(0,1,(3,3,2)) # ndvi , height\n",
    "targ"
   ]
  },
  {
   "cell_type": "code",
   "execution_count": null,
   "metadata": {},
   "outputs": [],
   "source": [
    "model(tensor)"
   ]
  },
  {
   "cell_type": "code",
   "execution_count": 52,
   "metadata": {},
   "outputs": [],
   "source": [
    "H=0.2ss\n",
    "N=0.1"
   ]
  },
  {
   "cell_type": "code",
   "execution_count": 56,
   "metadata": {},
   "outputs": [
    {
     "data": {
      "text/plain": [
       "array([[1, 0, 1],\n",
       "       [1, 0, 0],\n",
       "       [0, 0, 1]])"
      ]
     },
     "execution_count": 56,
     "metadata": {},
     "output_type": "execute_result"
    }
   ],
   "source": [
    "targ=(targ[:,:,0]>N) & (targ[:,:,1]>H)\n",
    "targ=test.astype(np.int)\n",
    "targ"
   ]
  },
  {
   "cell_type": "code",
   "execution_count": null,
   "metadata": {},
   "outputs": [],
   "source": [
    "    def __init__(self\n",
    "            means=MEANS,\n",
    "            stdevs=STDEVS,\n",
    "            augment=True,\n",
    "            band_indices=['ndvi']):\n",
    "        self.handler=hd.InputTargetHandler(\n",
    "            means=means,\n",
    "            stdevs=stdevs,\n",
    "            band_indices=band_indices,\n",
    "            augment=augment)\n",
    "\n",
    "    \n",
    "    def select_data(index):\n",
    "        self.row=self.canopy_frame.iloc[idx]\n",
    "        self.input_path=self.row.imagery_path\n",
    "        self.target_path=self.row.raster_path\n",
    "            \n",
    "    \n",
    "    def __getitem__(self, index):\n",
    "        self.select_data(index)\n",
    "        self.handler.set_augmentation()\n",
    "        inpt=self.handler.input(self.input_path,return_profile=False)\n",
    "        targ=self.handler.target(self.target_path,return_profile=False)\n",
    "        targ=self._threshold_target(targ)\n",
    "        return {\n",
    "            'input': inpt, \n",
    "            'target': targ }\n",
    "        \n",
    "        \n",
    "    def _threshold_target(self,targ):\n",
    "        return ((targ[:,:,0]>N) & (targ[:,:,1]>H)).astype(np.int)"
   ]
  }
 ],
 "metadata": {
  "kernelspec": {
   "display_name": "Environment (conda_geoml)",
   "language": "python",
   "name": "conda_geoml"
  },
  "language_info": {
   "codemirror_mode": {
    "name": "ipython",
    "version": 3
   },
   "file_extension": ".py",
   "mimetype": "text/x-python",
   "name": "python",
   "nbconvert_exporter": "python",
   "pygments_lexer": "ipython3",
   "version": "3.7.3"
  }
 },
 "nbformat": 4,
 "nbformat_minor": 2
}